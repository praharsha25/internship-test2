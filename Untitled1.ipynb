{
  "nbformat": 4,
  "nbformat_minor": 0,
  "metadata": {
    "colab": {
      "name": "Untitled1.ipynb",
      "provenance": [],
      "mount_file_id": "1n_37FTVDcR5aebyQvUY_-RV5ESajnqtU",
      "authorship_tag": "ABX9TyNcIWwVZjg8F/LP6MAzXkXV",
      "include_colab_link": true
    },
    "kernelspec": {
      "name": "python3",
      "display_name": "Python 3"
    },
    "language_info": {
      "name": "python"
    }
  },
  "cells": [
    {
      "cell_type": "markdown",
      "metadata": {
        "id": "view-in-github",
        "colab_type": "text"
      },
      "source": [
        "<a href=\"https://colab.research.google.com/github/praharsha25/internship-test2/blob/master/Untitled1.ipynb\" target=\"_parent\"><img src=\"https://colab.research.google.com/assets/colab-badge.svg\" alt=\"Open In Colab\"/></a>"
      ]
    },
    {
      "cell_type": "code",
      "metadata": {
        "id": "eq2qdI6QmgNI"
      },
      "source": [
        "import pandas as pd\n",
        "import numpy as np\n"
      ],
      "execution_count": 1,
      "outputs": []
    },
    {
      "cell_type": "code",
      "metadata": {
        "id": "wTOoYuBUm2JQ"
      },
      "source": [
        "data = pd.read_excel('/content/drive/MyDrive/dataset2 (1).xlsx')"
      ],
      "execution_count": 2,
      "outputs": []
    },
    {
      "cell_type": "code",
      "metadata": {
        "colab": {
          "base_uri": "https://localhost:8080/",
          "height": 206
        },
        "id": "sClG7twsnalf",
        "outputId": "4bced734-9771-42c0-b202-997a0f9ed3f0"
      },
      "source": [
        "data.head()"
      ],
      "execution_count": 3,
      "outputs": [
        {
          "output_type": "execute_result",
          "data": {
            "text/html": [
              "<div>\n",
              "<style scoped>\n",
              "    .dataframe tbody tr th:only-of-type {\n",
              "        vertical-align: middle;\n",
              "    }\n",
              "\n",
              "    .dataframe tbody tr th {\n",
              "        vertical-align: top;\n",
              "    }\n",
              "\n",
              "    .dataframe thead th {\n",
              "        text-align: right;\n",
              "    }\n",
              "</style>\n",
              "<table border=\"1\" class=\"dataframe\">\n",
              "  <thead>\n",
              "    <tr style=\"text-align: right;\">\n",
              "      <th></th>\n",
              "      <th>sl.no</th>\n",
              "      <th>age</th>\n",
              "      <th>gender</th>\n",
              "      <th>occupation</th>\n",
              "      <th>zip_code</th>\n",
              "    </tr>\n",
              "  </thead>\n",
              "  <tbody>\n",
              "    <tr>\n",
              "      <th>0</th>\n",
              "      <td>1</td>\n",
              "      <td>24</td>\n",
              "      <td>M</td>\n",
              "      <td>technician</td>\n",
              "      <td>85711</td>\n",
              "    </tr>\n",
              "    <tr>\n",
              "      <th>1</th>\n",
              "      <td>2</td>\n",
              "      <td>53</td>\n",
              "      <td>F</td>\n",
              "      <td>other</td>\n",
              "      <td>94043</td>\n",
              "    </tr>\n",
              "    <tr>\n",
              "      <th>2</th>\n",
              "      <td>3</td>\n",
              "      <td>23</td>\n",
              "      <td>M</td>\n",
              "      <td>writer</td>\n",
              "      <td>32067</td>\n",
              "    </tr>\n",
              "    <tr>\n",
              "      <th>3</th>\n",
              "      <td>4</td>\n",
              "      <td>24</td>\n",
              "      <td>M</td>\n",
              "      <td>technician</td>\n",
              "      <td>43537</td>\n",
              "    </tr>\n",
              "    <tr>\n",
              "      <th>4</th>\n",
              "      <td>5</td>\n",
              "      <td>33</td>\n",
              "      <td>F</td>\n",
              "      <td>other</td>\n",
              "      <td>15213</td>\n",
              "    </tr>\n",
              "  </tbody>\n",
              "</table>\n",
              "</div>"
            ],
            "text/plain": [
              "   sl.no  age gender  occupation zip_code\n",
              "0      1   24      M  technician    85711\n",
              "1      2   53      F       other    94043\n",
              "2      3   23      M      writer    32067\n",
              "3      4   24      M  technician    43537\n",
              "4      5   33      F       other    15213"
            ]
          },
          "metadata": {},
          "execution_count": 3
        }
      ]
    },
    {
      "cell_type": "code",
      "metadata": {
        "colab": {
          "base_uri": "https://localhost:8080/"
        },
        "id": "okgT6D48njqV",
        "outputId": "b266fa7b-667a-4444-ce96-07d94cd4ef56"
      },
      "source": [
        "result = data.groupby('occupation').agg({'age': ['min', 'max']}) \n",
        "\n",
        "  \n",
        "\n",
        "print(\"Min, and max values of age grouped by occupation\") \n",
        "\n",
        "print(result) \n",
        " "
      ],
      "execution_count": 22,
      "outputs": [
        {
          "output_type": "stream",
          "name": "stdout",
          "text": [
            "Min, and max values of age grouped by occupation\n",
            "              age    \n",
            "              min max\n",
            "occupation           \n",
            "administrator  21  70\n",
            "artist         19  48\n",
            "doctor         28  64\n",
            "educator       23  63\n",
            "engineer       22  70\n",
            "entertainment  15  50\n",
            "executive      22  69\n",
            "healthcare     22  62\n",
            "homemaker      20  50\n",
            "lawyer         21  53\n",
            "librarian      23  69\n",
            "marketing      24  55\n",
            "none           11  55\n",
            "other          13  64\n",
            "programmer     20  63\n",
            "retired        51  73\n",
            "salesman       18  66\n",
            "scientist      23  55\n",
            "student         7  42\n",
            "technician     21  55\n",
            "writer         18  60\n"
          ]
        }
      ]
    }
  ]
}